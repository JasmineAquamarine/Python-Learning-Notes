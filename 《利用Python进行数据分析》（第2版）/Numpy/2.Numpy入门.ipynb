{
 "cells": [
  {
   "cell_type": "code",
   "execution_count": 3,
   "id": "1b86de7f-bfea-42c2-a551-25eaa9b68370",
   "metadata": {},
   "outputs": [],
   "source": [
    "import numpy as np"
   ]
  },
  {
   "cell_type": "code",
   "execution_count": 9,
   "id": "9021d31c-6f85-43a9-8def-6fb234c90c05",
   "metadata": {},
   "outputs": [],
   "source": [
    "# 生成一百万个数字\n",
    "my_arr = np.arange(100000)\n",
    "my_list = list(range(100000))"
   ]
  },
  {
   "cell_type": "code",
   "execution_count": 10,
   "id": "fc89dbb2-dd06-45ea-80e6-134b8764c2b9",
   "metadata": {},
   "outputs": [
    {
     "name": "stdout",
     "output_type": "stream",
     "text": [
      "CPU times: total: 15.6 ms\n",
      "Wall time: 728 μs\n",
      "CPU times: total: 0 ns\n",
      "Wall time: 7.64 ms\n"
     ]
    }
   ],
   "source": [
    "%time for _ in range(10): my_arr2 = my_arr*2\n",
    "%time for _ in range(10):my_list2 = my_list*2"
   ]
  },
  {
   "cell_type": "code",
   "execution_count": 8,
   "id": "26143fe9-e0b5-4bb8-9257-ddf31b396237",
   "metadata": {},
   "outputs": [
    {
     "name": "stdout",
     "output_type": "stream",
     "text": [
      "CPU times: total: 0 ns\n",
      "Wall time: 1.99 ms\n",
      "CPU times: total: 15.6 ms\n",
      "Wall time: 8.55 ms\n"
     ]
    }
   ],
   "source": [
    "# 记录时间，其中%time为IPython的魔法命令，用来测试一行代码所需时间，用python需要引入time库\n",
    "%time for _ in range(10): my_arr2 = my_arr*2\n",
    "%time for _ in range(10):my_list2 = my_list*2"
   ]
  },
  {
   "cell_type": "code",
   "execution_count": 12,
   "id": "948cf835-c3f1-4282-b98d-418fff69d84b",
   "metadata": {},
   "outputs": [
    {
     "data": {
      "text/plain": [
       "array([[-0.25058693,  0.67179208, -0.14626749],\n",
       "       [ 1.44732758, -0.16036175, -1.49202861]])"
      ]
     },
     "execution_count": 12,
     "metadata": {},
     "output_type": "execute_result"
    }
   ],
   "source": [
    "# 生成随机数组\n",
    "data = np.random.randn(2,3)\n",
    "data"
   ]
  },
  {
   "cell_type": "code",
   "execution_count": 17,
   "id": "f673a592-7f6b-4c6d-9e9d-b7fc48c3104d",
   "metadata": {},
   "outputs": [
    {
     "name": "stdout",
     "output_type": "stream",
     "text": [
      "(2, 3)\n",
      "float64\n"
     ]
    }
   ],
   "source": [
    "print(data.shape)#用来反映数组的维度情况\n",
    "print(data.dtype)#用来反映其数据类型"
   ]
  },
  {
   "cell_type": "code",
   "execution_count": 20,
   "id": "7bf20b4d-89f0-4123-911a-50989cb0eecf",
   "metadata": {},
   "outputs": [
    {
     "name": "stdout",
     "output_type": "stream",
     "text": [
      "data1转换后形成[2 3 4 5 6 7 8],data2转换后形成[[1 2 3 4]\n",
      " [1 2 3 4]]\n"
     ]
    }
   ],
   "source": [
    "#生成数组\n",
    "data1 = [2,3,4,5,6,7,8]\n",
    "arr1 = np.array(data1)\n",
    "data2 = [[1,2,3,4],[1,2,3,4]]\n",
    "arr2 = np.array(data2)\n",
    "print(\"data1转换后形成%s,data2转换后形成%s\" % (arr1,arr2))"
   ]
  },
  {
   "cell_type": "code",
   "execution_count": 35,
   "id": "b6e26b9d-13ee-4e63-b7e8-bf0ae32ac41b",
   "metadata": {},
   "outputs": [
    {
     "data": {
      "text/plain": [
       "(array([1., 2., 3.]), array([1, 2, 3], dtype=int32))"
      ]
     },
     "execution_count": 35,
     "metadata": {},
     "output_type": "execute_result"
    }
   ],
   "source": [
    "data3 = np.array([1,2,3],dtype=np.float64)\n",
    "data4 = np.array([1,2,3],dtype=np.int32)\n",
    "data3,data4"
   ]
  },
  {
   "cell_type": "code",
   "execution_count": 37,
   "id": "383ffb45-accc-4f60-91eb-665e33102967",
   "metadata": {},
   "outputs": [
    {
     "data": {
      "text/plain": [
       "dtype('float64')"
      ]
     },
     "execution_count": 37,
     "metadata": {},
     "output_type": "execute_result"
    }
   ],
   "source": [
    "data5 = data4.astype(np.float64)\n",
    "data5.dtype"
   ]
  },
  {
   "cell_type": "code",
   "execution_count": 40,
   "id": "f3440658-d82b-410b-9d5b-d1c97cbd67cd",
   "metadata": {},
   "outputs": [
    {
     "data": {
      "text/plain": [
       "array([12,  3,  4,  5,  6,  7,  8])"
      ]
     },
     "execution_count": 40,
     "metadata": {},
     "output_type": "execute_result"
    }
   ],
   "source": [
    "arr1[0:1] = 12\n",
    "arr1"
   ]
  },
  {
   "cell_type": "code",
   "execution_count": 41,
   "id": "86bd343c-bf74-44f1-8f4b-071089c17781",
   "metadata": {},
   "outputs": [
    {
     "data": {
      "text/plain": [
       "array([5678,    3,    4,    5,    6,    7,    8])"
      ]
     },
     "execution_count": 41,
     "metadata": {},
     "output_type": "execute_result"
    }
   ],
   "source": [
    "# 取一部分\n",
    "slice = arr1[0:2]\n",
    "# 改变slice也会影响全部\n",
    "slice[0] = 5678\n",
    "arr1"
   ]
  },
  {
   "cell_type": "code",
   "execution_count": 43,
   "id": "557d7ea6-0bb6-4149-8699-6f89c9887c90",
   "metadata": {},
   "outputs": [
    {
     "name": "stdout",
     "output_type": "stream",
     "text": [
      "[[1 2 3 4]\n",
      " [1 2 3 4]]\n",
      "1\n",
      "[1 2 3 4]\n"
     ]
    }
   ],
   "source": [
    "print(arr2)\n",
    "print(arr2[0,0])\n",
    "print(arr2[0])"
   ]
  },
  {
   "cell_type": "code",
   "execution_count": 50,
   "id": "79b89104-e688-4198-a3cc-6dfa46c68005",
   "metadata": {},
   "outputs": [
    {
     "data": {
      "text/plain": [
       "array([[2, 3],\n",
       "       [5, 6]])"
      ]
     },
     "execution_count": 50,
     "metadata": {},
     "output_type": "execute_result"
    }
   ],
   "source": [
    "arr2d = np.array([[1,2,3],[4,5,6],[7,8,9]])\n",
    "arr2d[:2,1:]"
   ]
  },
  {
   "cell_type": "code",
   "execution_count": 55,
   "id": "eeafe9e3-68aa-47d6-b9b8-55e1683d6bf7",
   "metadata": {},
   "outputs": [
    {
     "name": "stdout",
     "output_type": "stream",
     "text": [
      "原始数组： [[[1 2]\n",
      "  [3 4]]\n",
      "\n",
      " [[5 6]\n",
      "  [7 8]]]\n",
      "转置后数组1： [[[1 2]\n",
      "  [5 6]]\n",
      "\n",
      " [[3 4]\n",
      "  [7 8]]]\n",
      "转置后数组2： [[[1 3]\n",
      "  [5 7]]\n",
      "\n",
      " [[2 4]\n",
      "  [6 8]]]\n",
      "转置后数组3： [[[1 5]\n",
      "  [3 7]]\n",
      "\n",
      " [[2 6]\n",
      "  [4 8]]]\n"
     ]
    }
   ],
   "source": [
    "# 创建一个三维数组\n",
    "arr3d = np.array([[[1, 2], [3, 4]], [[5, 6], [7, 8]]])\n",
    "print(\"原始数组：\", arr3d)\n",
    "\n",
    "# 指定新的维度顺序\n",
    "transposed_arr = arr3d.transpose((1, 0, 2))\n",
    "transposed_arr1 = arr3d.transpose((2, 0, 1))\n",
    "transposed_arr2 = arr3d.transpose((2, 1, 0))\n",
    "print(\"转置后数组1：\", transposed_arr)\n",
    "print(\"转置后数组2：\", transposed_arr1)\n",
    "print(\"转置后数组3：\", transposed_arr2)"
   ]
  },
  {
   "cell_type": "code",
   "execution_count": 59,
   "id": "1cfd8c89-9119-425c-98bc-da0e781355b9",
   "metadata": {},
   "outputs": [
    {
     "data": {
      "text/plain": [
       "[<matplotlib.lines.Line2D at 0x2175534f850>]"
      ]
     },
     "execution_count": 59,
     "metadata": {},
     "output_type": "execute_result"
    },
    {
     "data": {
      "image/png": "[encoded data removed]",
      "text/plain": [
       "<Figure size 640x480 with 1 Axes>"
      ]
     },
     "metadata": {},
     "output_type": "display_data"
    }
   ],
   "source": [
    "# 随机漫步，python实现\n",
    "import random\n",
    "import matplotlib.pyplot as plt\n",
    "\n",
    "position = 0\n",
    "walk = [position]\n",
    "steps = 1000\n",
    "for i in range(steps):\n",
    "    step = 1 if random.randint(0,1) else -1\n",
    "    position += step\n",
    "    walk.append(position)\n",
    "\n",
    "plt.plot(walk[:100])"
   ]
  },
  {
   "cell_type": "code",
   "execution_count": 10,
   "id": "80d003af-e6e1-4c65-a89c-9855ec4664a6",
   "metadata": {},
   "outputs": [
    {
     "name": "stdout",
     "output_type": "stream",
     "text": [
      "[[0.07075283 0.58639264 0.31788129]\n",
      " [0.88579967 0.86068925 0.67002074]\n",
      " [0.7981978  0.64645727 0.4952286 ]]\n",
      "[[0.56865631 0.24124953 0.6624996 ]\n",
      " [1.1808456  0.91424195 1.18024769]\n",
      " [0.94066923 0.76793519 0.88715545]]\n"
     ]
    }
   ],
   "source": [
    "# 实战1：矩阵运算与图像处理\n",
    "# 目的：用NumPy实现矩阵运算，并将其应用到图像处理中\n",
    "# 步骤：1）用NumPy生成随机矩阵，并计算矩阵乘法\n",
    "# 2） 加载一张图片，转化为NumPy数组\n",
    "# 3） 对图片进行简单处理（灰度化、裁剪、旋转）\n",
    "# 数据集：任意图片\n",
    "from PIL import Image\n",
    "a = np.random.rand(3,3)\n",
    "print(a)\n",
    "b = np.random.rand(3,3)\n",
    "result = np.dot(a,b)\n",
    "print(result)\n",
    "\n",
    "# 将图片转换为NumPy数组\n",
    "image = Image.open('C:\\\\Users\\\\Alan\\\\Desktop\\\\自媒体\\\\picture.jpg')\n",
    "image_array = np.array(image)\n",
    "# Image.fromarray(image_array).show()\n",
    "\n",
    "# 灰度化处理\n",
    "grey_image = np.dot(image_array[...,:3],a[0])\n",
    "Image.fromarray(grey_image).show()"
   ]
  },
  {
   "cell_type": "code",
   "execution_count": null,
   "id": "d6ef2c94-9999-43ea-9ed2-d91463558957",
   "metadata": {},
   "outputs": [],
   "source": []
  }
 ],
 "metadata": {
  "kernelspec": {
   "display_name": "Python 3 (ipykernel)",
   "language": "python",
   "name": "python3"
  },
  "language_info": {
   "codemirror_mode": {
    "name": "ipython",
    "version": 3
   },
   "file_extension": ".py",
   "mimetype": "text/x-python",
   "name": "python",
   "nbconvert_exporter": "python",
   "pygments_lexer": "ipython3",
   "version": "3.11.2"
  }
 },
 "nbformat": 4,
 "nbformat_minor": 5
}
